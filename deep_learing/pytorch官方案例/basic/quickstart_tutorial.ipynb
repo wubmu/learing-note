{
 "cells": [
  {
   "cell_type": "markdown",
   "metadata": {
    "collapsed": true,
    "pycharm": {
     "name": "#%% md\n"
    }
   },
   "source": [
    "## 快速入门\n",
    "这个一小节,包含了机器学习中的基本流程\n",
    "- 数据准备\n",
    "- 创建模型\n",
    "- 定义优化器\n",
    "- 保存模型参数\n",
    "- 加载模型"
   ]
  },
  {
   "cell_type": "markdown",
   "source": [
    "### 数据准备\n",
    "pytorch有两个处理数据的工具:torch.utils.data.DataLoader和torch.utils.data.Dataset\n",
    "Dataset存储样本及其相应的标签，而DataLoader在数据集上包装一个可迭代对象。"
   ],
   "metadata": {
    "collapsed": false,
    "pycharm": {
     "name": "#%% md\n"
    }
   }
  },
  {
   "cell_type": "code",
   "execution_count": 71,
   "outputs": [],
   "source": [
    "import torch\n",
    "from torch import nn\n",
    "from torch.utils.data import DataLoader\n",
    "from torchvision import datasets\n",
    "from torchvision.transforms import ToTensor, Lambda, Compose\n",
    "import matplotlib.pyplot as plt"
   ],
   "metadata": {
    "collapsed": false,
    "pycharm": {
     "name": "#%%\n"
    }
   }
  },
  {
   "cell_type": "code",
   "execution_count": 72,
   "outputs": [],
   "source": [
    "#从公开数据集下载训练数据\n",
    "training_data = datasets.FashionMNIST(\n",
    "    root=\"../data\",\n",
    "    train=True,\n",
    "    download=False,#如果需要下载改为True\n",
    "    transform=ToTensor(),\n",
    ")\n",
    "\n",
    "#从公开数据集下载测试数据\n",
    "test_data = datasets.FashionMNIST(\n",
    "    root=\"../data\",\n",
    "    train=False,\n",
    "    download=False,\n",
    "    transform=ToTensor(),\n",
    ")"
   ],
   "metadata": {
    "collapsed": false,
    "pycharm": {
     "name": "#%%\n"
    }
   }
  },
  {
   "cell_type": "markdown",
   "source": [
    "我们把Dataset当作一个参数传给DataLoader.这个迭代器,支持自动批处理,采样\n",
    "随机打乱数据,多进程加载数据.\n",
    "这里我们定义batch大小为64,Dataloader迭代器每次将会返回一个batch,包含feature和labels"
   ],
   "metadata": {
    "collapsed": false,
    "pycharm": {
     "name": "#%% md\n"
    }
   }
  },
  {
   "cell_type": "code",
   "execution_count": 73,
   "outputs": [
    {
     "name": "stdout",
     "output_type": "stream",
     "text": [
      "X的维度[N,C,H,W]: torch.Size([64, 1, 28, 28])\n",
      "y的维度:  torch.Size([64]) torch.int64\n"
     ]
    }
   ],
   "source": [
    "batch_size = 64\n",
    "\n",
    "#创建dataloaders\n",
    "train_dataloader = DataLoader(training_data, batch_size=batch_size)\n",
    "test_dataloader = DataLoader(test_data, batch_size=batch_size)\n",
    "\n",
    "for X, y in test_dataloader:\n",
    "    print(\"X的维度[N,C,H,W]:\",X.shape)     #[N,C,H,W] [在索引中的编号,通道,高,宽]\n",
    "    print(\"y的维度: \", y.shape, y.dtype)\n",
    "    break"
   ],
   "metadata": {
    "collapsed": false,
    "pycharm": {
     "name": "#%%\n"
    }
   }
  },
  {
   "cell_type": "markdown",
   "source": [
    "### 模型创建\n",
    "pytorch定义神经网络,需要创建一个类继承nn.Module.\n",
    "`__init__`的功能:定义网络层数\n",
    "`forword`:定义数据在网络中的流向"
   ],
   "metadata": {
    "collapsed": false,
    "pycharm": {
     "name": "#%% md\n"
    }
   }
  },
  {
   "cell_type": "code",
   "execution_count": 74,
   "outputs": [
    {
     "name": "stdout",
     "output_type": "stream",
     "text": [
      "DNN(\n",
      "  (flatten): Flatten(start_dim=1, end_dim=-1)\n",
      "  (linear_relu_stack): Sequential(\n",
      "    (0): Linear(in_features=784, out_features=512, bias=True)\n",
      "    (1): ReLU()\n",
      "    (2): Linear(in_features=512, out_features=512, bias=True)\n",
      "    (3): ReLU()\n",
      "    (4): Linear(in_features=512, out_features=10, bias=True)\n",
      "    (5): ReLU()\n",
      "  )\n",
      ")\n"
     ]
    }
   ],
   "source": [
    "# 如果有GPU采用gpu加速训练\n",
    "device = \"cuda\" if torch.cuda.is_available() else \"cpu\"\n",
    "\n",
    "# 定义模型\n",
    "class DNN(nn.Module):\n",
    "    def __init__(self):\n",
    "        super(DNN, self).__init__()\n",
    "        self.flatten = nn.Flatten()     #原始数据是[1,28,28],把它拉直  变成[28*28]一维\n",
    "        self.linear_relu_stack = nn.Sequential(\n",
    "            nn.Linear(28*28, 512),\n",
    "            nn.ReLU(),\n",
    "            nn.Linear(512, 512),\n",
    "            nn.ReLU(),\n",
    "            nn.Linear(512, 10),         #有10个类别\n",
    "            nn.ReLU()\n",
    "        )\n",
    "\n",
    "    def forward(self, x):\n",
    "        x = self.flatten(x)\n",
    "        x = self.linear_relu_stack(x)\n",
    "        return x\n",
    "\n",
    "model = DNN().to(device)\n",
    "print(model)"
   ],
   "metadata": {
    "collapsed": false,
    "pycharm": {
     "name": "#%%\n"
    }
   }
  },
  {
   "cell_type": "markdown",
   "source": [
    "### 定义优化器和损失函数"
   ],
   "metadata": {
    "collapsed": false,
    "pycharm": {
     "name": "#%% md\n"
    }
   }
  },
  {
   "cell_type": "code",
   "execution_count": 75,
   "outputs": [],
   "source": [
    "loss_fn = nn.CrossEntropyLoss()\n",
    "optimizer = torch.optim.Adam(model.parameters(), lr=0.001)"
   ],
   "metadata": {
    "collapsed": false,
    "pycharm": {
     "name": "#%%\n"
    }
   }
  },
  {
   "cell_type": "markdown",
   "source": [
    "在单次循环中,模型需要对训练数据做预测,并且反向传播更新模型参数"
   ],
   "metadata": {
    "collapsed": false,
    "pycharm": {
     "name": "#%% md\n"
    }
   }
  },
  {
   "cell_type": "code",
   "execution_count": 76,
   "outputs": [],
   "source": [
    "def train(dataloader, model, loss_fn, optimizer):\n",
    "    size = len(dataloader.dataset)\n",
    "    for batch, (X, y) in enumerate(dataloader):\n",
    "        X, y = X.to(device), y.to(device)\n",
    "\n",
    "        # 前向传播和计算误差\n",
    "        pred = model(X)\n",
    "        loss = loss_fn(pred, y) #交叉熵会自动对y进行one-hot\n",
    "\n",
    "        #反向传播\n",
    "        optimizer.zero_grad()   #梯度清零\n",
    "        loss.backward()         #方向传播\n",
    "        optimizer.step()        #更新模型\n",
    "\n",
    "        if batch % 100 == 0:   #每100个batch打印一下误差\n",
    "            loss, current = loss.item(), batch*len(X)\n",
    "            print(f'loss: {loss:>7f}    [{current:>5d}/{size:>5d}]')"
   ],
   "metadata": {
    "collapsed": false,
    "pycharm": {
     "name": "#%%\n"
    }
   }
  },
  {
   "cell_type": "markdown",
   "source": [
    "我们还将对照测试数据集检查模型的性能，以确保模型是可学习的。"
   ],
   "metadata": {
    "collapsed": false,
    "pycharm": {
     "name": "#%% md\n"
    }
   }
  },
  {
   "cell_type": "code",
   "execution_count": 77,
   "outputs": [],
   "source": [
    "def test(dataloader, model):\n",
    "    # size = len(dataloader.dataset)\n",
    "    size = len(dataloader.dataset)\n",
    "    model.eval()\n",
    "    test_loss, correct = 0, 0\n",
    "    with torch.no_grad():   #测试集不用更新参数,不记录梯度\n",
    "        for X, y in dataloader:\n",
    "            X , y = X.to(device), y.to(device)\n",
    "            pred = model(X)\n",
    "            test_loss += loss_fn(pred, y).item()\n",
    "            correct += (pred.argmax(1) == y).type(torch.float).sum().item()\n",
    "            #pred.argmax(1) 找到概率最大的索引位置, 即预测的label\n",
    "            #(pred.argmax(1) == y) 是否与 y的label相等\n",
    "            #(pred.argmax(1) == y).type(torch.float).sum():统计true的个数 ,true转换成float为1\n",
    "\n",
    "    test_loss /= size\n",
    "    correct /= size\n",
    "    print(f\"Test Error: \\n Accuracy: {(100*correct):>0.1f}%, Avg loss: {test_loss:>8f} \\n\")"
   ],
   "metadata": {
    "collapsed": false,
    "pycharm": {
     "name": "#%%\n"
    }
   }
  },
  {
   "cell_type": "markdown",
   "source": [
    "训练的过程迭代多次(epoch)"
   ],
   "metadata": {
    "collapsed": false,
    "pycharm": {
     "name": "#%% md\n"
    }
   }
  },
  {
   "cell_type": "code",
   "execution_count": 78,
   "outputs": [
    {
     "name": "stdout",
     "output_type": "stream",
     "text": [
      "Epoch 1\n",
      "------------------------------\n",
      "loss: 2.298897    [    0/60000]\n",
      "loss: 1.661566    [ 6400/60000]\n",
      "loss: 1.727862    [12800/60000]\n",
      "loss: 1.804164    [19200/60000]\n",
      "loss: 1.650022    [25600/60000]\n",
      "loss: 1.702805    [32000/60000]\n",
      "loss: 1.369759    [38400/60000]\n",
      "loss: 1.585616    [44800/60000]\n",
      "loss: 1.414686    [51200/60000]\n",
      "loss: 1.726880    [57600/60000]\n",
      "Test Error: \n",
      " Accuracy: 35.1%, Avg loss: 0.026484 \n",
      "\n",
      "Epoch 2\n",
      "------------------------------\n",
      "loss: 1.485116    [    0/60000]\n",
      "loss: 1.520031    [ 6400/60000]\n",
      "loss: 1.653199    [12800/60000]\n",
      "loss: 1.769573    [19200/60000]\n",
      "loss: 1.478098    [25600/60000]\n",
      "loss: 1.689139    [32000/60000]\n",
      "loss: 1.349994    [38400/60000]\n",
      "loss: 1.552191    [44800/60000]\n",
      "loss: 1.387923    [51200/60000]\n",
      "loss: 1.632932    [57600/60000]\n",
      "Test Error: \n",
      " Accuracy: 36.9%, Avg loss: 0.025579 \n",
      "\n",
      "Epoch 3\n",
      "------------------------------\n",
      "loss: 1.375883    [    0/60000]\n",
      "loss: 1.485450    [ 6400/60000]\n",
      "loss: 1.643194    [12800/60000]\n",
      "loss: 1.745134    [19200/60000]\n",
      "loss: 1.489459    [25600/60000]\n",
      "loss: 1.683173    [32000/60000]\n",
      "loss: 1.332691    [38400/60000]\n",
      "loss: 1.527047    [44800/60000]\n",
      "loss: 1.088369    [51200/60000]\n",
      "loss: 1.412117    [57600/60000]\n",
      "Test Error: \n",
      " Accuracy: 56.1%, Avg loss: 0.019232 \n",
      "\n",
      "Epoch 4\n",
      "------------------------------\n",
      "loss: 0.949627    [    0/60000]\n",
      "loss: 1.063320    [ 6400/60000]\n",
      "loss: 1.107010    [12800/60000]\n",
      "loss: 1.242038    [19200/60000]\n",
      "loss: 1.226886    [25600/60000]\n",
      "loss: 1.273832    [32000/60000]\n",
      "loss: 1.029097    [38400/60000]\n",
      "loss: 1.310232    [44800/60000]\n",
      "loss: 0.952710    [51200/60000]\n",
      "loss: 1.395312    [57600/60000]\n",
      "Test Error: \n",
      " Accuracy: 56.5%, Avg loss: 0.018658 \n",
      "\n",
      "Epoch 5\n",
      "------------------------------\n",
      "loss: 0.894558    [    0/60000]\n",
      "loss: 1.040670    [ 6400/60000]\n",
      "loss: 1.136559    [12800/60000]\n",
      "loss: 1.185049    [19200/60000]\n",
      "loss: 1.184287    [25600/60000]\n",
      "loss: 1.242846    [32000/60000]\n",
      "loss: 0.998598    [38400/60000]\n",
      "loss: 1.194539    [44800/60000]\n",
      "loss: 0.940521    [51200/60000]\n",
      "loss: 1.336018    [57600/60000]\n",
      "Test Error: \n",
      " Accuracy: 56.6%, Avg loss: 0.018490 \n",
      "\n",
      "Done!\n"
     ]
    }
   ],
   "source": [
    "epochs = 5\n",
    "for t in range(epochs):\n",
    "    print(f\"Epoch {t+1}\\n------------------------------\")\n",
    "    train(train_dataloader, model, loss_fn, optimizer)\n",
    "    test(test_dataloader, model)\n",
    "print(\"Done!\")"
   ],
   "metadata": {
    "collapsed": false,
    "pycharm": {
     "name": "#%%\n"
    }
   }
  },
  {
   "cell_type": "markdown",
   "source": [
    "### 模型存储"
   ],
   "metadata": {
    "collapsed": false,
    "pycharm": {
     "name": "#%% md\n"
    }
   }
  },
  {
   "cell_type": "code",
   "execution_count": 79,
   "outputs": [
    {
     "name": "stdout",
     "output_type": "stream",
     "text": [
      "把模型参数保存在DNN.pth\n"
     ]
    }
   ],
   "source": [
    "torch.save(model.state_dict(),\"DNN.pth\")\n",
    "print(\"把模型参数保存在DNN.pth\")"
   ],
   "metadata": {
    "collapsed": false,
    "pycharm": {
     "name": "#%%\n"
    }
   }
  },
  {
   "cell_type": "markdown",
   "source": [
    "### 加载模型\n",
    "加载模型的过程包括重新创建模型结构并将参数加载到其中。"
   ],
   "metadata": {
    "collapsed": false,
    "pycharm": {
     "name": "#%% md\n"
    }
   }
  },
  {
   "cell_type": "code",
   "execution_count": 80,
   "outputs": [
    {
     "data": {
      "text/plain": "<All keys matched successfully>"
     },
     "execution_count": 80,
     "metadata": {},
     "output_type": "execute_result"
    }
   ],
   "source": [
    "model2 = DNN()\n",
    "model.load_state_dict(torch.load(\"DNN.pth\"))"
   ],
   "metadata": {
    "collapsed": false,
    "pycharm": {
     "name": "#%%\n"
    }
   }
  },
  {
   "cell_type": "code",
   "execution_count": 81,
   "outputs": [
    {
     "name": "stdout",
     "output_type": "stream",
     "text": [
      "预测值: \"Pullover\", 实际值: \"Trouser\"\n"
     ]
    }
   ],
   "source": [
    "# 做一次预测\n",
    "classes = [\n",
    "    \"T-shirt/top\",\n",
    "    \"Trouser\",\n",
    "    \"Pullover\",\n",
    "    \"Dress\",\n",
    "    \"Coat\",\n",
    "    \"Sandal\",\n",
    "    \"Shirt\",\n",
    "    \"Sneaker\",\n",
    "    \"Bag\",\n",
    "    \"Ankle boot\",\n",
    "]\n",
    "\n",
    "model2.eval()\n",
    "x, y = test_data[3][0], test_data[3][1]\n",
    "with torch.no_grad():\n",
    "    pred = model2(x)\n",
    "    predicted, actual = classes[pred[0].argmax(0)], classes[y]\n",
    "    print(f'预测值: \"{predicted}\", 实际值: \"{actual}\"')\n"
   ],
   "metadata": {
    "collapsed": false,
    "pycharm": {
     "name": "#%%\n"
    }
   }
  }
 ],
 "metadata": {
  "kernelspec": {
   "display_name": "Python 3",
   "language": "python",
   "name": "python3"
  },
  "language_info": {
   "codemirror_mode": {
    "name": "ipython",
    "version": 2
   },
   "file_extension": ".py",
   "mimetype": "text/x-python",
   "name": "python",
   "nbconvert_exporter": "python",
   "pygments_lexer": "ipython2",
   "version": "2.7.6"
  }
 },
 "nbformat": 4,
 "nbformat_minor": 0
}